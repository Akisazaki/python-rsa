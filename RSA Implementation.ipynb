{
 "cells": [
  {
   "cell_type": "code",
   "execution_count": 1,
   "metadata": {
    "executionInfo": {
     "elapsed": 8,
     "status": "ok",
     "timestamp": 1635092213728,
     "user": {
      "displayName": "2 CM",
      "photoUrl": "https://lh3.googleusercontent.com/a-/AOh14GiBj_L6IPwEWFqtPM4-f2zi7ESLnrZCc-Wha0h_=s64",
      "userId": "12106543608475243410"
     },
     "user_tz": -540
    },
    "id": "Q_s2MAWw2FlD"
   },
   "outputs": [],
   "source": [
    "import math"
   ]
  },
  {
   "cell_type": "code",
   "execution_count": 2,
   "metadata": {
    "executionInfo": {
     "elapsed": 938,
     "status": "ok",
     "timestamp": 1635092214662,
     "user": {
      "displayName": "2 CM",
      "photoUrl": "https://lh3.googleusercontent.com/a-/AOh14GiBj_L6IPwEWFqtPM4-f2zi7ESLnrZCc-Wha0h_=s64",
      "userId": "12106543608475243410"
     },
     "user_tz": -540
    },
    "id": "QrOQmWSnHME5"
   },
   "outputs": [],
   "source": [
    "def FastModulo(b, p, d):\n",
    "  \"\"\"\n",
    "  b = base\n",
    "  p = power\n",
    "  d = modulor\n",
    "  \"\"\"\n",
    "  i = 1\n",
    "  while p > i: i = i << 1\n",
    "  i = i >> 1\n",
    "  r = 1\n",
    "  while i > 0:\n",
    "    r = (r * r) % d\n",
    "    if p & i:\n",
    "      r = (r * b) % d\n",
    "    i = i >> 1\n",
    "  return r"
   ]
  },
  {
   "cell_type": "code",
   "execution_count": 3,
   "metadata": {
    "executionInfo": {
     "elapsed": 22,
     "status": "ok",
     "timestamp": 1635092214664,
     "user": {
      "displayName": "2 CM",
      "photoUrl": "https://lh3.googleusercontent.com/a-/AOh14GiBj_L6IPwEWFqtPM4-f2zi7ESLnrZCc-Wha0h_=s64",
      "userId": "12106543608475243410"
     },
     "user_tz": -540
    },
    "id": "xI4Z1rMR4rD4"
   },
   "outputs": [],
   "source": [
    "def GCD(m, n):\n",
    "  if m < n:\n",
    "    m, n = n, m\n",
    "  if n == 0:\n",
    "    return m\n",
    "  else:\n",
    "    return GCD(n, m % n)"
   ]
  },
  {
   "cell_type": "code",
   "execution_count": 4,
   "metadata": {
    "executionInfo": {
     "elapsed": 22,
     "status": "ok",
     "timestamp": 1635092214665,
     "user": {
      "displayName": "2 CM",
      "photoUrl": "https://lh3.googleusercontent.com/a-/AOh14GiBj_L6IPwEWFqtPM4-f2zi7ESLnrZCc-Wha0h_=s64",
      "userId": "12106543608475243410"
     },
     "user_tz": -540
    },
    "id": "grIkUehcnYLg"
   },
   "outputs": [],
   "source": [
    "# https://www.geeksforgeeks.org/euclidean-algorithms-basic-and-extended/\n",
    "def GCDExtended(d, f):\n",
    "  \"\"\"\n",
    "  Extended Euclidian Algorithm\n",
    "  dd' = 1 mod f\n",
    "  return gcd, csi, cbi\n",
    "  \"\"\"\n",
    "  if d == 0:\n",
    "    return f, 0, 1\n",
    "  else:\n",
    "    gcd, x, y = GCDExtended(f % d, d)\n",
    "    return gcd, (y - (f // d) * x), x"
   ]
  },
  {
   "cell_type": "code",
   "execution_count": 5,
   "metadata": {},
   "outputs": [],
   "source": [
    "def gcdExt(d, f): # using to calculate the d parameter\n",
    "  gcd, csi, cbi = GCDExtended(d, f)\n",
    "  if csi < 0:\n",
    "    return f + csi # make positive\n",
    "  else:\n",
    "    return csi"
   ]
  },
  {
   "cell_type": "code",
   "execution_count": 6,
   "metadata": {
    "executionInfo": {
     "elapsed": 22,
     "status": "ok",
     "timestamp": 1635092214666,
     "user": {
      "displayName": "2 CM",
      "photoUrl": "https://lh3.googleusercontent.com/a-/AOh14GiBj_L6IPwEWFqtPM4-f2zi7ESLnrZCc-Wha0h_=s64",
      "userId": "12106543608475243410"
     },
     "user_tz": -540
    },
    "id": "Z9vbWf1Bndiu"
   },
   "outputs": [],
   "source": [
    "def PrimeNumbers(index):\n",
    "  \"\"\"\n",
    "  Too slow. throw it!\n",
    "  \"\"\"\n",
    "  i = PrimeNumbers.primes[-1]\n",
    "  while len(PrimeNumbers.primes) <= index:\n",
    "    i = i + 2\n",
    "    p = True\n",
    "    for k in PrimeNumbers.primes:\n",
    "      if i % k == 0:\n",
    "        p = False\n",
    "        break\n",
    "    if p:\n",
    "      PrimeNumbers.primes.append(i)\n",
    "  return PrimeNumbers.primes[index]\n",
    "PrimeNumbers.primes = [2, 3, 5, 7, 11, 13, 17, 19, 23, 29,\n",
    "                     31, 37, 41, 43, 47, 53, 59, 61, 67,\n",
    "                     71, 73, 79, 83, 89, 97, 101, 103,\n",
    "                     107, 109, 113, 127, 131, 137, 139,\n",
    "                     149, 151, 157, 163, 167, 173, 179,\n",
    "                     181, 191, 193, 197, 199, 211, 223,\n",
    "                     227, 229, 233, 239, 241, 251, 257,\n",
    "                     263, 269, 271, 277, 281, 283, 293,\n",
    "                     307, 311, 313, 317, 331, 337, 347, 349]\n",
    "\n",
    "\n",
    "\n",
    "\n",
    "#\n",
    "# https://www.geeksforgeeks.org/how-to-generate-large-prime-numbers-for-rsa-algorithm/\n",
    "#\n",
    "\n",
    "# Large Prime Generation for RSA\n",
    "import random\n",
    " \n",
    "# Pre generated primes\n",
    "first_primes_list = [2, 3, 5, 7, 11, 13, 17, 19, 23, 29,\n",
    "                     31, 37, 41, 43, 47, 53, 59, 61, 67,\n",
    "                     71, 73, 79, 83, 89, 97, 101, 103,\n",
    "                     107, 109, 113, 127, 131, 137, 139,\n",
    "                     149, 151, 157, 163, 167, 173, 179,\n",
    "                     181, 191, 193, 197, 199, 211, 223,\n",
    "                     227, 229, 233, 239, 241, 251, 257,\n",
    "                     263, 269, 271, 277, 281, 283, 293,\n",
    "                     307, 311, 313, 317, 331, 337, 347, 349]\n",
    " \n",
    "def nBitRandom(n):\n",
    "    return random.randrange(2**(n-1)+1, 2**n - 1)\n",
    " \n",
    "def getLowLevelPrime(n):\n",
    "    '''Generate a prime candidate divisible\n",
    "    by first primes'''\n",
    "    while True:\n",
    "        # Obtain a random number\n",
    "        pc = nBitRandom(n)\n",
    " \n",
    "         # Test divisibility by pre-generated\n",
    "         # primes\n",
    "        for divisor in first_primes_list:\n",
    "            if pc % divisor == 0 and divisor**2 <= pc:\n",
    "                break\n",
    "        else: return pc\n",
    " \n",
    "def isPrimeNumber(mrc):\n",
    "    if mrc <= first_primes_list[-1]:\n",
    "      return mrc in first_primes_list\n",
    "    '''Run 20 iterations of Rabin Miller Primality test'''\n",
    "    maxDivisionsByTwo = 0\n",
    "    ec = mrc-1\n",
    "    while ec % 2 == 0:\n",
    "        ec >>= 1\n",
    "        maxDivisionsByTwo += 1\n",
    "    assert(2**maxDivisionsByTwo * ec == mrc-1)\n",
    " \n",
    "    def trialComposite(round_tester):\n",
    "        if pow(round_tester, ec, mrc) == 1:\n",
    "            return False\n",
    "        for i in range(maxDivisionsByTwo):\n",
    "            if pow(round_tester, 2**i * ec, mrc) == mrc-1:\n",
    "                return False\n",
    "        return True\n",
    " \n",
    "    # Set number of trials here\n",
    "    numberOfRabinTrials = 20\n",
    "    for i in range(numberOfRabinTrials):\n",
    "        round_tester = random.randrange(2, mrc)\n",
    "        if trialComposite(round_tester):\n",
    "            return False\n",
    "    return True\n",
    "\n",
    "def nBitPrimeRandom(bits):\n",
    "  while True:\n",
    "    prime_candidate = getLowLevelPrime(bits)\n",
    "    if isPrimeNumber(prime_candidate):\n",
    "      return prime_candidate"
   ]
  },
  {
   "cell_type": "code",
   "execution_count": 7,
   "metadata": {
    "executionInfo": {
     "elapsed": 23,
     "status": "ok",
     "timestamp": 1635092214667,
     "user": {
      "displayName": "2 CM",
      "photoUrl": "https://lh3.googleusercontent.com/a-/AOh14GiBj_L6IPwEWFqtPM4-f2zi7ESLnrZCc-Wha0h_=s64",
      "userId": "12106543608475243410"
     },
     "user_tz": -540
    },
    "id": "QaMcRTeRjvZa"
   },
   "outputs": [],
   "source": [
    "# https://stackoverflow.com/questions/2654149/bit-length-of-a-positive-integer-in-python\n",
    "def num_of_bits(n):\n",
    "  return len('{:b}'.format(n))"
   ]
  },
  {
   "cell_type": "code",
   "execution_count": 30,
   "metadata": {
    "executionInfo": {
     "elapsed": 22,
     "status": "ok",
     "timestamp": 1635092214667,
     "user": {
      "displayName": "2 CM",
      "photoUrl": "https://lh3.googleusercontent.com/a-/AOh14GiBj_L6IPwEWFqtPM4-f2zi7ESLnrZCc-Wha0h_=s64",
      "userId": "12106543608475243410"
     },
     "user_tz": -540
    },
    "id": "tWZxCOGBnXNl"
   },
   "outputs": [],
   "source": [
    "def splitBit(v, n):\n",
    "  kv = []\n",
    "  while v > 0:\n",
    "    t = v % n\n",
    "    v = v // n\n",
    "    kv.append(t)\n",
    "  return kv\n",
    "\n",
    "def mergeBit(bits, n):\n",
    "  v = 0\n",
    "  while len(bits) > 0:\n",
    "    v = v * n\n",
    "    v = v + bits.pop()\n",
    "  return v"
   ]
  },
  {
   "cell_type": "markdown",
   "metadata": {
    "id": "hH7nUWfq2B5v"
   },
   "source": [
    "# RSA"
   ]
  },
  {
   "cell_type": "code",
   "execution_count": 9,
   "metadata": {
    "executionInfo": {
     "elapsed": 21,
     "status": "ok",
     "timestamp": 1635092214667,
     "user": {
      "displayName": "2 CM",
      "photoUrl": "https://lh3.googleusercontent.com/a-/AOh14GiBj_L6IPwEWFqtPM4-f2zi7ESLnrZCc-Wha0h_=s64",
      "userId": "12106543608475243410"
     },
     "user_tz": -540
    },
    "id": "Q0NPHROSrKn9"
   },
   "outputs": [],
   "source": [
    "def RSA(key_size = None, p = None, q = None):\n",
    "  def nprime(n):\n",
    "    if n < 5:\n",
    "      return PrimeNumbers(random.randrange(1, 10))\n",
    "    return nBitPrimeRandom(n)\n",
    "  \n",
    "  def gcdExt(d, f): # using to calculate the d parameter\n",
    "    gcd, csi, cbi = GCDExtended(d, f)\n",
    "    if csi < 0:\n",
    "      return f + csi # make positive\n",
    "    else:\n",
    "      return csi\n",
    "  \n",
    "  k = 0\n",
    "  if None == key_size:\n",
    "    if not isPrimeNumber(p) or not isPrimeNumber(q):\n",
    "      raise Exception(\"p or q is not prime number.\")\n",
    "    # if p * q < 21:\n",
    "    #   raise Exception(\"p or q is too small. p*q must be larger than 20.\")\n",
    "\n",
    "    k = (num_of_bits(p) + num_of_bits(q)) // 2 + 1\n",
    "  else:\n",
    "    if key_size < 3:\n",
    "      raise Exception(\"key_size is too small. key_size must be larger than 2 bit.\")\n",
    "    p = nprime(key_size)\n",
    "    q = nprime(key_size)\n",
    "    k = key_size\n",
    "\n",
    "  n = p * q\n",
    "  pi = (p - 1) * (q - 1)\n",
    "  e = nprime(k)\n",
    "  d = -1\n",
    "  try_count = 0\n",
    "  while True:\n",
    "    if math.log2(n) <= e and e != p and e != q and e != pi and GCD(e, pi) == 1: # check e // https://crypto.stackexchange.com/questions/87018/rsa-algorithm-must-e-be-less-than-varphin\n",
    "      d = gcdExt(e, pi)\n",
    "      if d > 0 and d != e:  # check d\n",
    "        break\n",
    "      elif 10 < try_count:\n",
    "        raise Exception(\"Can't find acceptable d. Please try another p,q.\")\n",
    "      try_count = try_count + 1\n",
    "    e = nprime(k)\n",
    "\n",
    "  print(\"n:\", n, \" p:\", p, \" q:\", q)\n",
    "  print(\"e:\", e, \" d:\", d)\n",
    "\n",
    "  def enc(value):\n",
    "    tokens = splitBit(value, n)\n",
    "    result = []\n",
    "    for token in tokens:\n",
    "      result.append(FastModulo(token, e, n))\n",
    "    return mergeBit(result, n)\n",
    "\n",
    "  def dec(value):\n",
    "    tokens = splitBit(value, n)\n",
    "    result = []\n",
    "    for token in tokens:\n",
    "      result.append(FastModulo(token, d, n))\n",
    "    return mergeBit(result, n)\n",
    "  return enc, dec"
   ]
  },
  {
   "cell_type": "code",
   "execution_count": 10,
   "metadata": {
    "colab": {
     "base_uri": "https://localhost:8080/"
    },
    "executionInfo": {
     "elapsed": 22,
     "status": "ok",
     "timestamp": 1635092214668,
     "user": {
      "displayName": "2 CM",
      "photoUrl": "https://lh3.googleusercontent.com/a-/AOh14GiBj_L6IPwEWFqtPM4-f2zi7ESLnrZCc-Wha0h_=s64",
      "userId": "12106543608475243410"
     },
     "user_tz": -540
    },
    "id": "3smhepvqzfBK",
    "outputId": "e12eb0a6-13e9-46b9-8cef-ca0d4d0fb25a"
   },
   "outputs": [
    {
     "name": "stdout",
     "output_type": "stream",
     "text": [
      "n: 15  p: 3  q: 5\n",
      "e: 23  d: 7\n"
     ]
    }
   ],
   "source": [
    "enc, dec = RSA(p=3,q=5)"
   ]
  },
  {
   "cell_type": "code",
   "execution_count": 11,
   "metadata": {
    "colab": {
     "base_uri": "https://localhost:8080/"
    },
    "executionInfo": {
     "elapsed": 19,
     "status": "ok",
     "timestamp": 1635092214668,
     "user": {
      "displayName": "2 CM",
      "photoUrl": "https://lh3.googleusercontent.com/a-/AOh14GiBj_L6IPwEWFqtPM4-f2zi7ESLnrZCc-Wha0h_=s64",
      "userId": "12106543608475243410"
     },
     "user_tz": -540
    },
    "id": "UO6xuCyO2qZT",
    "outputId": "75cc3806-7d36-430e-8f7f-17bdb7f407ca"
   },
   "outputs": [
    {
     "name": "stdout",
     "output_type": "stream",
     "text": [
      "1885\n",
      "535\n"
     ]
    }
   ],
   "source": [
    "cipher = enc(535)\n",
    "print(cipher)\n",
    "print(dec(cipher))"
   ]
  },
  {
   "cell_type": "code",
   "execution_count": null,
   "metadata": {},
   "outputs": [],
   "source": []
  },
  {
   "cell_type": "code",
   "execution_count": null,
   "metadata": {},
   "outputs": [],
   "source": []
  },
  {
   "cell_type": "code",
   "execution_count": null,
   "metadata": {},
   "outputs": [],
   "source": []
  },
  {
   "cell_type": "code",
   "execution_count": null,
   "metadata": {},
   "outputs": [],
   "source": []
  },
  {
   "cell_type": "code",
   "execution_count": null,
   "metadata": {},
   "outputs": [],
   "source": []
  },
  {
   "cell_type": "code",
   "execution_count": null,
   "metadata": {},
   "outputs": [],
   "source": []
  },
  {
   "cell_type": "code",
   "execution_count": null,
   "metadata": {},
   "outputs": [],
   "source": []
  },
  {
   "cell_type": "code",
   "execution_count": null,
   "metadata": {},
   "outputs": [],
   "source": []
  },
  {
   "cell_type": "code",
   "execution_count": null,
   "metadata": {},
   "outputs": [],
   "source": []
  },
  {
   "cell_type": "markdown",
   "metadata": {
    "id": "9hva0voD18im"
   },
   "source": [
    "# ElGamal\n",
    "\n",
    "## Key generation\n",
    "* 큰 소수 p, p 보다 작은 임의의 g, x 선택\n",
    "* Y = (g^x) mod p\n",
    "* Public key: Y, p, q\n",
    "* Private key: x\n",
    "\n",
    "![ElGamal.PNG](data:image/png;base64,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)"
   ]
  },
  {
   "cell_type": "code",
   "execution_count": 12,
   "metadata": {
    "executionInfo": {
     "elapsed": 313,
     "status": "ok",
     "timestamp": 1635094277592,
     "user": {
      "displayName": "2 CM",
      "photoUrl": "https://lh3.googleusercontent.com/a-/AOh14GiBj_L6IPwEWFqtPM4-f2zi7ESLnrZCc-Wha0h_=s64",
      "userId": "12106543608475243410"
     },
     "user_tz": -540
    },
    "id": "0wWyOz6518Qv"
   },
   "outputs": [],
   "source": [
    "def ElGamal(key_size = None, p = None, g = None, x = None):\n",
    "  # utility functions ==========================\n",
    "  def nprime(n):\n",
    "    if n < 5:\n",
    "      return PrimeNumbers(random.randrange(1, 10))\n",
    "    return nBitPrimeRandom(n)\n",
    "  \n",
    "  def generateKey(p, bitSize, keySet):\n",
    "    key = random.randint( bitSize, p )\n",
    "    while key in keySet:\n",
    "      key = random.randint( bitSize, p )\n",
    "    return key\n",
    "  \n",
    "  # key validation =============================\n",
    "  if None == key_size:\n",
    "    if p < g or p < x:\n",
    "      raise Exception(\"g or x is must less than p.\")\n",
    "    elif g == x:\n",
    "      raise Exception(\"g and x is same.\")\n",
    "    elif not isPrimeNumber(p):\n",
    "      raise Exception(\"p is not prime number.\")\n",
    "    key_size = num_of_bits(p)\n",
    "  else:\n",
    "    if key_size < 3:\n",
    "      raise Exception(\"key_size is too small. key_size must be larger than 2 bit.\")\n",
    "    p = nprime(key_size)\n",
    "    g = random.randint( 2, p - 1 ) # 2 <= g < p-1\n",
    "    x = generateKey( p, key_size // 2, (g,) )\n",
    "  \n",
    "  # algorithm ===================================\n",
    "  Y = FastModulo(g, x, p)\n",
    "\n",
    "  print(\"p:\",p, \" g:\", g)\n",
    "  print(\"x:\",x, \" Y:\", Y)\n",
    "\n",
    "  def enc(M, k = None):\n",
    "    if k == None:\n",
    "      k = generateKey( p, key_size // 2, (g,x) )\n",
    "      print(\"k:\", k)\n",
    "    a = FastModulo(g, k, p) # ( g ** k ) % p\n",
    "    b = M * FastModulo(Y, k, p) % p\n",
    "    return a, b\n",
    "  \n",
    "  def dec(a, b):\n",
    "    # a**(p - 1 - x) * b mod p\n",
    "    e = FastModulo(a, p - 1 - x, p)\n",
    "    m = (e * b) % p\n",
    "    return m\n",
    "  return enc, dec"
   ]
  },
  {
   "cell_type": "code",
   "execution_count": 13,
   "metadata": {
    "colab": {
     "base_uri": "https://localhost:8080/"
    },
    "executionInfo": {
     "elapsed": 9,
     "status": "ok",
     "timestamp": 1635094278917,
     "user": {
      "displayName": "2 CM",
      "photoUrl": "https://lh3.googleusercontent.com/a-/AOh14GiBj_L6IPwEWFqtPM4-f2zi7ESLnrZCc-Wha0h_=s64",
      "userId": "12106543608475243410"
     },
     "user_tz": -540
    },
    "id": "vr8BUc6d9aCB",
    "outputId": "f50c698d-3bab-45ac-9e55-dfbd4baf549b"
   },
   "outputs": [
    {
     "name": "stdout",
     "output_type": "stream",
     "text": [
      "p: 44741  g: 27171\n",
      "x: 40406  Y: 8880\n"
     ]
    }
   ],
   "source": [
    "enc,dec = ElGamal(key_size=16)"
   ]
  },
  {
   "cell_type": "code",
   "execution_count": 14,
   "metadata": {
    "colab": {
     "base_uri": "https://localhost:8080/"
    },
    "executionInfo": {
     "elapsed": 6,
     "status": "ok",
     "timestamp": 1635094279867,
     "user": {
      "displayName": "2 CM",
      "photoUrl": "https://lh3.googleusercontent.com/a-/AOh14GiBj_L6IPwEWFqtPM4-f2zi7ESLnrZCc-Wha0h_=s64",
      "userId": "12106543608475243410"
     },
     "user_tz": -540
    },
    "id": "VsS-xoaJ9nVG",
    "outputId": "3fa430f6-6f1b-4c4c-af84-f2f3046ce379"
   },
   "outputs": [
    {
     "name": "stdout",
     "output_type": "stream",
     "text": [
      "k: 12387\n",
      "41215 26137\n"
     ]
    },
    {
     "data": {
      "text/plain": [
       "1423"
      ]
     },
     "execution_count": 14,
     "metadata": {},
     "output_type": "execute_result"
    }
   ],
   "source": [
    "a, b = enc (1423)\n",
    "print(a, b)\n",
    "dec(a, b)"
   ]
  },
  {
   "cell_type": "code",
   "execution_count": 15,
   "metadata": {
    "colab": {
     "base_uri": "https://localhost:8080/"
    },
    "executionInfo": {
     "elapsed": 337,
     "status": "ok",
     "timestamp": 1635094952091,
     "user": {
      "displayName": "2 CM",
      "photoUrl": "https://lh3.googleusercontent.com/a-/AOh14GiBj_L6IPwEWFqtPM4-f2zi7ESLnrZCc-Wha0h_=s64",
      "userId": "12106543608475243410"
     },
     "user_tz": -540
    },
    "id": "nZ-9JQrpH9As",
    "outputId": "9988e0fc-2684-42c5-8efa-ac5d0550ec02"
   },
   "outputs": [
    {
     "name": "stdout",
     "output_type": "stream",
     "text": [
      "13 2 5\n"
     ]
    }
   ],
   "source": [
    "p, g, x, k = 13, 2, 9, 10\n",
    "M = 11\n",
    "Y = FastModulo(g, x, p)\n",
    "print (p, g, Y)"
   ]
  },
  {
   "cell_type": "code",
   "execution_count": 16,
   "metadata": {
    "colab": {
     "base_uri": "https://localhost:8080/"
    },
    "executionInfo": {
     "elapsed": 276,
     "status": "ok",
     "timestamp": 1635095014263,
     "user": {
      "displayName": "2 CM",
      "photoUrl": "https://lh3.googleusercontent.com/a-/AOh14GiBj_L6IPwEWFqtPM4-f2zi7ESLnrZCc-Wha0h_=s64",
      "userId": "12106543608475243410"
     },
     "user_tz": -540
    },
    "id": "7UdN6r7eQJhB",
    "outputId": "54249c8d-0b9f-44bb-e89a-caa1f663a0a1"
   },
   "outputs": [
    {
     "data": {
      "text/plain": [
       "(10, 2)"
      ]
     },
     "execution_count": 16,
     "metadata": {},
     "output_type": "execute_result"
    }
   ],
   "source": [
    "FastModulo(g, k, p), (M * Y**k) % p"
   ]
  },
  {
   "cell_type": "code",
   "execution_count": 17,
   "metadata": {
    "colab": {
     "base_uri": "https://localhost:8080/"
    },
    "executionInfo": {
     "elapsed": 286,
     "status": "ok",
     "timestamp": 1635095355280,
     "user": {
      "displayName": "2 CM",
      "photoUrl": "https://lh3.googleusercontent.com/a-/AOh14GiBj_L6IPwEWFqtPM4-f2zi7ESLnrZCc-Wha0h_=s64",
      "userId": "12106543608475243410"
     },
     "user_tz": -540
    },
    "id": "Eb---AXeQecW",
    "outputId": "98b2600a-78b3-49b5-b077-84af8c8cd97a"
   },
   "outputs": [
    {
     "data": {
      "text/plain": [
       "11"
      ]
     },
     "execution_count": 17,
     "metadata": {},
     "output_type": "execute_result"
    }
   ],
   "source": [
    "(10**(p-1-x)*2) % p"
   ]
  },
  {
   "cell_type": "code",
   "execution_count": 18,
   "metadata": {
    "executionInfo": {
     "elapsed": 472,
     "status": "ok",
     "timestamp": 1635095704127,
     "user": {
      "displayName": "2 CM",
      "photoUrl": "https://lh3.googleusercontent.com/a-/AOh14GiBj_L6IPwEWFqtPM4-f2zi7ESLnrZCc-Wha0h_=s64",
      "userId": "12106543608475243410"
     },
     "user_tz": -540
    },
    "id": "JRPP632BRx0B"
   },
   "outputs": [],
   "source": [
    "p, g, x, k = 13, 2, 3, 5\n",
    "M = 11"
   ]
  },
  {
   "cell_type": "code",
   "execution_count": 19,
   "metadata": {
    "executionInfo": {
     "elapsed": 295,
     "status": "ok",
     "timestamp": 1635095621638,
     "user": {
      "displayName": "2 CM",
      "photoUrl": "https://lh3.googleusercontent.com/a-/AOh14GiBj_L6IPwEWFqtPM4-f2zi7ESLnrZCc-Wha0h_=s64",
      "userId": "12106543608475243410"
     },
     "user_tz": -540
    },
    "id": "Sekhh7r4St78"
   },
   "outputs": [],
   "source": [
    "Y = g**x % p"
   ]
  },
  {
   "cell_type": "code",
   "execution_count": 20,
   "metadata": {
    "colab": {
     "base_uri": "https://localhost:8080/"
    },
    "executionInfo": {
     "elapsed": 295,
     "status": "ok",
     "timestamp": 1635095628794,
     "user": {
      "displayName": "2 CM",
      "photoUrl": "https://lh3.googleusercontent.com/a-/AOh14GiBj_L6IPwEWFqtPM4-f2zi7ESLnrZCc-Wha0h_=s64",
      "userId": "12106543608475243410"
     },
     "user_tz": -540
    },
    "id": "YMmXScWRSy1e",
    "outputId": "98615385-1676-4946-ab48-c30c89bdd7db"
   },
   "outputs": [
    {
     "data": {
      "text/plain": [
       "(13, 2, 8)"
      ]
     },
     "execution_count": 20,
     "metadata": {},
     "output_type": "execute_result"
    }
   ],
   "source": [
    "p, g, Y"
   ]
  },
  {
   "cell_type": "code",
   "execution_count": 21,
   "metadata": {
    "colab": {
     "base_uri": "https://localhost:8080/"
    },
    "executionInfo": {
     "elapsed": 324,
     "status": "ok",
     "timestamp": 1635095695273,
     "user": {
      "displayName": "2 CM",
      "photoUrl": "https://lh3.googleusercontent.com/a-/AOh14GiBj_L6IPwEWFqtPM4-f2zi7ESLnrZCc-Wha0h_=s64",
      "userId": "12106543608475243410"
     },
     "user_tz": -540
    },
    "id": "acunbVTGS0a6",
    "outputId": "9abd305e-f300-4014-bc62-01560f232e63"
   },
   "outputs": [
    {
     "data": {
      "text/plain": [
       "(6, 10)"
      ]
     },
     "execution_count": 21,
     "metadata": {},
     "output_type": "execute_result"
    }
   ],
   "source": [
    "a, b = (g**k) %p, (Y**k * M) % p\n",
    "a, b"
   ]
  },
  {
   "cell_type": "code",
   "execution_count": 22,
   "metadata": {
    "colab": {
     "base_uri": "https://localhost:8080/"
    },
    "executionInfo": {
     "elapsed": 284,
     "status": "ok",
     "timestamp": 1635096424597,
     "user": {
      "displayName": "2 CM",
      "photoUrl": "https://lh3.googleusercontent.com/a-/AOh14GiBj_L6IPwEWFqtPM4-f2zi7ESLnrZCc-Wha0h_=s64",
      "userId": "12106543608475243410"
     },
     "user_tz": -540
    },
    "id": "Rul1mIpRTBv1",
    "outputId": "68d6937d-6307-4217-a5c6-8dfbec53d37a"
   },
   "outputs": [
    {
     "data": {
      "text/plain": [
       "11"
      ]
     },
     "execution_count": 22,
     "metadata": {},
     "output_type": "execute_result"
    }
   ],
   "source": [
    "g, p, x = 2, 13, 7\n",
    "Y = g**x % p\n",
    "M = 2\n",
    "k = 3\n",
    "Y"
   ]
  },
  {
   "cell_type": "code",
   "execution_count": 23,
   "metadata": {
    "colab": {
     "base_uri": "https://localhost:8080/"
    },
    "executionInfo": {
     "elapsed": 9,
     "status": "ok",
     "timestamp": 1635096424908,
     "user": {
      "displayName": "2 CM",
      "photoUrl": "https://lh3.googleusercontent.com/a-/AOh14GiBj_L6IPwEWFqtPM4-f2zi7ESLnrZCc-Wha0h_=s64",
      "userId": "12106543608475243410"
     },
     "user_tz": -540
    },
    "id": "g_4MN4GcUoWl",
    "outputId": "cbca25ec-f98a-4c9e-8157-7fb9b6c2fe37"
   },
   "outputs": [
    {
     "data": {
      "text/plain": [
       "(8, 10)"
      ]
     },
     "execution_count": 23,
     "metadata": {},
     "output_type": "execute_result"
    }
   ],
   "source": [
    "a = g**k % p\n",
    "b = (M*Y**k)%p \n",
    "a, b"
   ]
  },
  {
   "cell_type": "code",
   "execution_count": 24,
   "metadata": {
    "colab": {
     "base_uri": "https://localhost:8080/"
    },
    "executionInfo": {
     "elapsed": 307,
     "status": "ok",
     "timestamp": 1635096427860,
     "user": {
      "displayName": "2 CM",
      "photoUrl": "https://lh3.googleusercontent.com/a-/AOh14GiBj_L6IPwEWFqtPM4-f2zi7ESLnrZCc-Wha0h_=s64",
      "userId": "12106543608475243410"
     },
     "user_tz": -540
    },
    "id": "5pE-3P27U2bW",
    "outputId": "b4f8ae50-f137-4dec-a7b0-8cccb6fc92d2"
   },
   "outputs": [
    {
     "data": {
      "text/plain": [
       "2"
      ]
     },
     "execution_count": 24,
     "metadata": {},
     "output_type": "execute_result"
    }
   ],
   "source": [
    "#dec\n",
    "(a**(p-1-x) * b) % p"
   ]
  },
  {
   "cell_type": "code",
   "execution_count": 25,
   "metadata": {
    "id": "0Pam6Xt1VJz2"
   },
   "outputs": [
    {
     "name": "stdout",
     "output_type": "stream",
     "text": [
      "p: 13  g: 2\n",
      "x: 7  Y: 11\n"
     ]
    }
   ],
   "source": [
    "enc, dec =ElGamal(p=13, g=2, x=7)"
   ]
  },
  {
   "cell_type": "code",
   "execution_count": 26,
   "metadata": {},
   "outputs": [
    {
     "data": {
      "text/plain": [
       "(6, 12)"
      ]
     },
     "execution_count": 26,
     "metadata": {},
     "output_type": "execute_result"
    }
   ],
   "source": [
    "enc(11, k=5)"
   ]
  },
  {
   "cell_type": "code",
   "execution_count": 27,
   "metadata": {},
   "outputs": [
    {
     "data": {
      "text/plain": [
       "225"
      ]
     },
     "execution_count": 27,
     "metadata": {},
     "output_type": "execute_result"
    }
   ],
   "source": [
    "(10-1) *  (26-1)"
   ]
  },
  {
   "cell_type": "code",
   "execution_count": 29,
   "metadata": {},
   "outputs": [
    {
     "data": {
      "text/plain": [
       "17"
      ]
     },
     "execution_count": 29,
     "metadata": {},
     "output_type": "execute_result"
    }
   ],
   "source": [
    "gcdExt(17, 72)"
   ]
  },
  {
   "cell_type": "code",
   "execution_count": 34,
   "metadata": {},
   "outputs": [
    {
     "data": {
      "text/plain": [
       "1"
      ]
     },
     "execution_count": 34,
     "metadata": {},
     "output_type": "execute_result"
    }
   ],
   "source": [
    "GCD(9,40)"
   ]
  },
  {
   "cell_type": "code",
   "execution_count": 35,
   "metadata": {},
   "outputs": [
    {
     "data": {
      "text/plain": [
       "6"
      ]
     },
     "execution_count": 35,
     "metadata": {},
     "output_type": "execute_result"
    }
   ],
   "source": [
    "13 % 7"
   ]
  },
  {
   "cell_type": "code",
   "execution_count": 36,
   "metadata": {},
   "outputs": [
    {
     "data": {
      "text/plain": [
       "55"
      ]
     },
     "execution_count": 36,
     "metadata": {},
     "output_type": "execute_result"
    }
   ],
   "source": [
    "10+9+8+7+6+5+4+3+2+1"
   ]
  },
  {
   "cell_type": "code",
   "execution_count": 38,
   "metadata": {},
   "outputs": [],
   "source": [
    "a,n = 5, 7"
   ]
  },
  {
   "cell_type": "code",
   "execution_count": 43,
   "metadata": {},
   "outputs": [],
   "source": [
    "c = 13\n"
   ]
  },
  {
   "cell_type": "code",
   "execution_count": 44,
   "metadata": {},
   "outputs": [],
   "source": [
    "b = c % n"
   ]
  },
  {
   "cell_type": "code",
   "execution_count": 45,
   "metadata": {},
   "outputs": [
    {
     "data": {
      "text/plain": [
       "2"
      ]
     },
     "execution_count": 45,
     "metadata": {},
     "output_type": "execute_result"
    }
   ],
   "source": [
    "(a*b)%n"
   ]
  },
  {
   "cell_type": "code",
   "execution_count": 46,
   "metadata": {},
   "outputs": [
    {
     "data": {
      "text/plain": [
       "2"
      ]
     },
     "execution_count": 46,
     "metadata": {},
     "output_type": "execute_result"
    }
   ],
   "source": [
    "(a*c) %n\n"
   ]
  },
  {
   "cell_type": "code",
   "execution_count": null,
   "metadata": {},
   "outputs": [],
   "source": []
  }
 ],
 "metadata": {
  "colab": {
   "authorship_tag": "ABX9TyOln+k+AuA0cLkLILgF4bGx",
   "collapsed_sections": [],
   "name": "RSA Implementation.ipynb",
   "provenance": [
    {
     "file_id": "https://github.com/Akisazaki/python-rsa/blob/main/RSA_Implementation.ipynb",
     "timestamp": 1634568392159
    }
   ]
  },
  "kernelspec": {
   "display_name": "Python 3",
   "language": "python",
   "name": "python3"
  },
  "language_info": {
   "codemirror_mode": {
    "name": "ipython",
    "version": 3
   },
   "file_extension": ".py",
   "mimetype": "text/x-python",
   "name": "python",
   "nbconvert_exporter": "python",
   "pygments_lexer": "ipython3",
   "version": "3.7.6"
  }
 },
 "nbformat": 4,
 "nbformat_minor": 1
}
